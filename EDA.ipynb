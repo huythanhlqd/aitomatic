{
  "nbformat": 4,
  "nbformat_minor": 0,
  "metadata": {
    "colab": {
      "provenance": []
    },
    "kernelspec": {
      "name": "python3",
      "display_name": "Python 3"
    },
    "language_info": {
      "name": "python"
    }
  },
  "cells": [
    {
      "cell_type": "code",
      "execution_count": null,
      "metadata": {
        "colab": {
          "base_uri": "https://localhost:8080/"
        },
        "id": "WqbKVRKg8B4d",
        "outputId": "ffaec1a9-c564-4c67-ffb1-a136e9be8e3a"
      },
      "outputs": [
        {
          "output_type": "stream",
          "name": "stdout",
          "text": [
            "Mounted at /content/drive\n"
          ]
        }
      ],
      "source": [
        "import pandas as pd\n",
        "import numpy as np\n",
        "import os\n",
        "from google.colab import drive\n",
        "drive.mount('/content/drive')"
      ]
    },
    {
      "cell_type": "code",
      "source": [
        "df = pd.read_feather('/content/drive/MyDrive/aitomatic/iot_pmfp_data.feather')\n",
        "df['datetime'] = pd.to_datetime(df['datetime'], format=\"%Y-%m-%d %H:%M:%S\")\n",
        "df['anomaly'] = df['anomaly'].astype(int)\n",
        "milestone = '2015-11-15 01:00:00'\n",
        "train = df[df[\"datetime\"] < pd.to_datetime(milestone)]\n",
        "test = df[df[\"datetime\"] >= pd.to_datetime(milestone)]\n",
        "train.describe()"
      ],
      "metadata": {
        "colab": {
          "base_uri": "https://localhost:8080/",
          "height": 300
        },
        "id": "UiAgkXZi8X6j",
        "outputId": "7ecab500-f3cd-4976-affe-dd8c02ce8672"
      },
      "execution_count": null,
      "outputs": [
        {
          "output_type": "execute_result",
          "data": {
            "text/plain": [
              "           machineID           volt         rotate       pressure  \\\n",
              "count  762700.000000  762700.000000  762700.000000  762700.000000   \n",
              "mean       50.500000     170.785678     446.668016     100.835815   \n",
              "std        28.866089      15.504525      52.622478      11.025737   \n",
              "min         1.000000      97.333604     138.432075      51.237106   \n",
              "25%        25.750000     160.320389     412.370249      93.489397   \n",
              "50%        50.500000     170.609742     447.649627     100.409111   \n",
              "75%        75.250000     181.018743     482.201886     107.532548   \n",
              "max       100.000000     250.870453     695.020984     185.951998   \n",
              "\n",
              "           vibration            age        anomaly  \n",
              "count  762700.000000  762700.000000  762700.000000  \n",
              "mean       40.387361      11.330000       0.004984  \n",
              "std         5.371377       5.827619       0.070419  \n",
              "min        14.877054       0.000000       0.000000  \n",
              "25%        36.779099       6.750000       0.000000  \n",
              "50%        40.238776      12.000000       0.000000  \n",
              "75%        43.792102      16.000000       0.000000  \n",
              "max        76.791072      20.000000       1.000000  "
            ],
            "text/html": [
              "\n",
              "\n",
              "  <div id=\"df-be574da0-e246-4cb9-bbc9-83f52360ce37\">\n",
              "    <div class=\"colab-df-container\">\n",
              "      <div>\n",
              "<style scoped>\n",
              "    .dataframe tbody tr th:only-of-type {\n",
              "        vertical-align: middle;\n",
              "    }\n",
              "\n",
              "    .dataframe tbody tr th {\n",
              "        vertical-align: top;\n",
              "    }\n",
              "\n",
              "    .dataframe thead th {\n",
              "        text-align: right;\n",
              "    }\n",
              "</style>\n",
              "<table border=\"1\" class=\"dataframe\">\n",
              "  <thead>\n",
              "    <tr style=\"text-align: right;\">\n",
              "      <th></th>\n",
              "      <th>machineID</th>\n",
              "      <th>volt</th>\n",
              "      <th>rotate</th>\n",
              "      <th>pressure</th>\n",
              "      <th>vibration</th>\n",
              "      <th>age</th>\n",
              "      <th>anomaly</th>\n",
              "    </tr>\n",
              "  </thead>\n",
              "  <tbody>\n",
              "    <tr>\n",
              "      <th>count</th>\n",
              "      <td>762700.000000</td>\n",
              "      <td>762700.000000</td>\n",
              "      <td>762700.000000</td>\n",
              "      <td>762700.000000</td>\n",
              "      <td>762700.000000</td>\n",
              "      <td>762700.000000</td>\n",
              "      <td>762700.000000</td>\n",
              "    </tr>\n",
              "    <tr>\n",
              "      <th>mean</th>\n",
              "      <td>50.500000</td>\n",
              "      <td>170.785678</td>\n",
              "      <td>446.668016</td>\n",
              "      <td>100.835815</td>\n",
              "      <td>40.387361</td>\n",
              "      <td>11.330000</td>\n",
              "      <td>0.004984</td>\n",
              "    </tr>\n",
              "    <tr>\n",
              "      <th>std</th>\n",
              "      <td>28.866089</td>\n",
              "      <td>15.504525</td>\n",
              "      <td>52.622478</td>\n",
              "      <td>11.025737</td>\n",
              "      <td>5.371377</td>\n",
              "      <td>5.827619</td>\n",
              "      <td>0.070419</td>\n",
              "    </tr>\n",
              "    <tr>\n",
              "      <th>min</th>\n",
              "      <td>1.000000</td>\n",
              "      <td>97.333604</td>\n",
              "      <td>138.432075</td>\n",
              "      <td>51.237106</td>\n",
              "      <td>14.877054</td>\n",
              "      <td>0.000000</td>\n",
              "      <td>0.000000</td>\n",
              "    </tr>\n",
              "    <tr>\n",
              "      <th>25%</th>\n",
              "      <td>25.750000</td>\n",
              "      <td>160.320389</td>\n",
              "      <td>412.370249</td>\n",
              "      <td>93.489397</td>\n",
              "      <td>36.779099</td>\n",
              "      <td>6.750000</td>\n",
              "      <td>0.000000</td>\n",
              "    </tr>\n",
              "    <tr>\n",
              "      <th>50%</th>\n",
              "      <td>50.500000</td>\n",
              "      <td>170.609742</td>\n",
              "      <td>447.649627</td>\n",
              "      <td>100.409111</td>\n",
              "      <td>40.238776</td>\n",
              "      <td>12.000000</td>\n",
              "      <td>0.000000</td>\n",
              "    </tr>\n",
              "    <tr>\n",
              "      <th>75%</th>\n",
              "      <td>75.250000</td>\n",
              "      <td>181.018743</td>\n",
              "      <td>482.201886</td>\n",
              "      <td>107.532548</td>\n",
              "      <td>43.792102</td>\n",
              "      <td>16.000000</td>\n",
              "      <td>0.000000</td>\n",
              "    </tr>\n",
              "    <tr>\n",
              "      <th>max</th>\n",
              "      <td>100.000000</td>\n",
              "      <td>250.870453</td>\n",
              "      <td>695.020984</td>\n",
              "      <td>185.951998</td>\n",
              "      <td>76.791072</td>\n",
              "      <td>20.000000</td>\n",
              "      <td>1.000000</td>\n",
              "    </tr>\n",
              "  </tbody>\n",
              "</table>\n",
              "</div>\n",
              "      <button class=\"colab-df-convert\" onclick=\"convertToInteractive('df-be574da0-e246-4cb9-bbc9-83f52360ce37')\"\n",
              "              title=\"Convert this dataframe to an interactive table.\"\n",
              "              style=\"display:none;\">\n",
              "\n",
              "  <svg xmlns=\"http://www.w3.org/2000/svg\" height=\"24px\"viewBox=\"0 0 24 24\"\n",
              "       width=\"24px\">\n",
              "    <path d=\"M0 0h24v24H0V0z\" fill=\"none\"/>\n",
              "    <path d=\"M18.56 5.44l.94 2.06.94-2.06 2.06-.94-2.06-.94-.94-2.06-.94 2.06-2.06.94zm-11 1L8.5 8.5l.94-2.06 2.06-.94-2.06-.94L8.5 2.5l-.94 2.06-2.06.94zm10 10l.94 2.06.94-2.06 2.06-.94-2.06-.94-.94-2.06-.94 2.06-2.06.94z\"/><path d=\"M17.41 7.96l-1.37-1.37c-.4-.4-.92-.59-1.43-.59-.52 0-1.04.2-1.43.59L10.3 9.45l-7.72 7.72c-.78.78-.78 2.05 0 2.83L4 21.41c.39.39.9.59 1.41.59.51 0 1.02-.2 1.41-.59l7.78-7.78 2.81-2.81c.8-.78.8-2.07 0-2.86zM5.41 20L4 18.59l7.72-7.72 1.47 1.35L5.41 20z\"/>\n",
              "  </svg>\n",
              "      </button>\n",
              "\n",
              "\n",
              "\n",
              "    <div id=\"df-9283a154-efb2-4d0f-9f1a-b4437f37bda4\">\n",
              "      <button class=\"colab-df-quickchart\" onclick=\"quickchart('df-9283a154-efb2-4d0f-9f1a-b4437f37bda4')\"\n",
              "              title=\"Suggest charts.\"\n",
              "              style=\"display:none;\">\n",
              "\n",
              "<svg xmlns=\"http://www.w3.org/2000/svg\" height=\"24px\"viewBox=\"0 0 24 24\"\n",
              "     width=\"24px\">\n",
              "    <g>\n",
              "        <path d=\"M19 3H5c-1.1 0-2 .9-2 2v14c0 1.1.9 2 2 2h14c1.1 0 2-.9 2-2V5c0-1.1-.9-2-2-2zM9 17H7v-7h2v7zm4 0h-2V7h2v10zm4 0h-2v-4h2v4z\"/>\n",
              "    </g>\n",
              "</svg>\n",
              "      </button>\n",
              "    </div>\n",
              "\n",
              "<style>\n",
              "  .colab-df-quickchart {\n",
              "    background-color: #E8F0FE;\n",
              "    border: none;\n",
              "    border-radius: 50%;\n",
              "    cursor: pointer;\n",
              "    display: none;\n",
              "    fill: #1967D2;\n",
              "    height: 32px;\n",
              "    padding: 0 0 0 0;\n",
              "    width: 32px;\n",
              "  }\n",
              "\n",
              "  .colab-df-quickchart:hover {\n",
              "    background-color: #E2EBFA;\n",
              "    box-shadow: 0px 1px 2px rgba(60, 64, 67, 0.3), 0px 1px 3px 1px rgba(60, 64, 67, 0.15);\n",
              "    fill: #174EA6;\n",
              "  }\n",
              "\n",
              "  [theme=dark] .colab-df-quickchart {\n",
              "    background-color: #3B4455;\n",
              "    fill: #D2E3FC;\n",
              "  }\n",
              "\n",
              "  [theme=dark] .colab-df-quickchart:hover {\n",
              "    background-color: #434B5C;\n",
              "    box-shadow: 0px 1px 3px 1px rgba(0, 0, 0, 0.15);\n",
              "    filter: drop-shadow(0px 1px 2px rgba(0, 0, 0, 0.3));\n",
              "    fill: #FFFFFF;\n",
              "  }\n",
              "</style>\n",
              "\n",
              "    <script>\n",
              "      async function quickchart(key) {\n",
              "        const containerElement = document.querySelector('#' + key);\n",
              "        const charts = await google.colab.kernel.invokeFunction(\n",
              "            'suggestCharts', [key], {});\n",
              "      }\n",
              "    </script>\n",
              "\n",
              "      <script>\n",
              "\n",
              "function displayQuickchartButton(domScope) {\n",
              "  let quickchartButtonEl =\n",
              "    domScope.querySelector('#df-9283a154-efb2-4d0f-9f1a-b4437f37bda4 button.colab-df-quickchart');\n",
              "  quickchartButtonEl.style.display =\n",
              "    google.colab.kernel.accessAllowed ? 'block' : 'none';\n",
              "}\n",
              "\n",
              "        displayQuickchartButton(document);\n",
              "      </script>\n",
              "      <style>\n",
              "    .colab-df-container {\n",
              "      display:flex;\n",
              "      flex-wrap:wrap;\n",
              "      gap: 12px;\n",
              "    }\n",
              "\n",
              "    .colab-df-convert {\n",
              "      background-color: #E8F0FE;\n",
              "      border: none;\n",
              "      border-radius: 50%;\n",
              "      cursor: pointer;\n",
              "      display: none;\n",
              "      fill: #1967D2;\n",
              "      height: 32px;\n",
              "      padding: 0 0 0 0;\n",
              "      width: 32px;\n",
              "    }\n",
              "\n",
              "    .colab-df-convert:hover {\n",
              "      background-color: #E2EBFA;\n",
              "      box-shadow: 0px 1px 2px rgba(60, 64, 67, 0.3), 0px 1px 3px 1px rgba(60, 64, 67, 0.15);\n",
              "      fill: #174EA6;\n",
              "    }\n",
              "\n",
              "    [theme=dark] .colab-df-convert {\n",
              "      background-color: #3B4455;\n",
              "      fill: #D2E3FC;\n",
              "    }\n",
              "\n",
              "    [theme=dark] .colab-df-convert:hover {\n",
              "      background-color: #434B5C;\n",
              "      box-shadow: 0px 1px 3px 1px rgba(0, 0, 0, 0.15);\n",
              "      filter: drop-shadow(0px 1px 2px rgba(0, 0, 0, 0.3));\n",
              "      fill: #FFFFFF;\n",
              "    }\n",
              "  </style>\n",
              "\n",
              "      <script>\n",
              "        const buttonEl =\n",
              "          document.querySelector('#df-be574da0-e246-4cb9-bbc9-83f52360ce37 button.colab-df-convert');\n",
              "        buttonEl.style.display =\n",
              "          google.colab.kernel.accessAllowed ? 'block' : 'none';\n",
              "\n",
              "        async function convertToInteractive(key) {\n",
              "          const element = document.querySelector('#df-be574da0-e246-4cb9-bbc9-83f52360ce37');\n",
              "          const dataTable =\n",
              "            await google.colab.kernel.invokeFunction('convertToInteractive',\n",
              "                                                     [key], {});\n",
              "          if (!dataTable) return;\n",
              "\n",
              "          const docLinkHtml = 'Like what you see? Visit the ' +\n",
              "            '<a target=\"_blank\" href=https://colab.research.google.com/notebooks/data_table.ipynb>data table notebook</a>'\n",
              "            + ' to learn more about interactive tables.';\n",
              "          element.innerHTML = '';\n",
              "          dataTable['output_type'] = 'display_data';\n",
              "          await google.colab.output.renderOutput(dataTable, element);\n",
              "          const docLink = document.createElement('div');\n",
              "          docLink.innerHTML = docLinkHtml;\n",
              "          element.appendChild(docLink);\n",
              "        }\n",
              "      </script>\n",
              "    </div>\n",
              "  </div>\n"
            ]
          },
          "metadata": {},
          "execution_count": 2
        }
      ]
    },
    {
      "cell_type": "code",
      "source": [
        "df['anomaly'].value_counts()"
      ],
      "metadata": {
        "colab": {
          "base_uri": "https://localhost:8080/"
        },
        "id": "5iLCP8mU-Zd-",
        "outputId": "aa8f0699-46af-4331-f337-d8eb7c8f812a"
      },
      "execution_count": null,
      "outputs": [
        {
          "output_type": "execute_result",
          "data": {
            "text/plain": [
              "0    871768\n",
              "1      4332\n",
              "Name: anomaly, dtype: int64"
            ]
          },
          "metadata": {},
          "execution_count": 3
        }
      ]
    },
    {
      "cell_type": "code",
      "source": [
        "# label distribution\n",
        "df['anomaly'].plot(kind=\"hist\")"
      ],
      "metadata": {
        "colab": {
          "base_uri": "https://localhost:8080/",
          "height": 447
        },
        "id": "MCjZmIV69TuS",
        "outputId": "7109f6ae-666b-4170-d33e-9629f5c9081b"
      },
      "execution_count": null,
      "outputs": [
        {
          "output_type": "execute_result",
          "data": {
            "text/plain": [
              "<Axes: ylabel='Frequency'>"
            ]
          },
          "metadata": {},
          "execution_count": 4
        },
        {
          "output_type": "display_data",
          "data": {
            "text/plain": [
              "<Figure size 640x480 with 1 Axes>"
            ],
            "image/png": "[encoded data removed]"
          },
          "metadata": {}
        }
      ]
    },
    {
      "cell_type": "code",
      "source": [
        "df['anomaly'].value_counts(),train['anomaly'].value_counts(),test['anomaly'].value_counts()"
      ],
      "metadata": {
        "colab": {
          "base_uri": "https://localhost:8080/"
        },
        "id": "4_o6CupYlMdi",
        "outputId": "2b09552a-8910-444b-b1f9-e1b917500d4f"
      },
      "execution_count": null,
      "outputs": [
        {
          "output_type": "execute_result",
          "data": {
            "text/plain": [
              "(0    871768\n",
              " 1      4332\n",
              " Name: anomaly, dtype: int64,\n",
              " 0    758899\n",
              " 1      3801\n",
              " Name: anomaly, dtype: int64,\n",
              " 0    112869\n",
              " 1       531\n",
              " Name: anomaly, dtype: int64)"
            ]
          },
          "metadata": {},
          "execution_count": 5
        }
      ]
    },
    {
      "cell_type": "code",
      "source": [
        "#visualize categorical feature\n",
        "train.groupby(['machineID','anomaly']).model.count()"
      ],
      "metadata": {
        "colab": {
          "base_uri": "https://localhost:8080/"
        },
        "id": "SGMlCDDK9zFr",
        "outputId": "7cc219a0-4d03-47d1-a169-0965dfff11bd"
      },
      "execution_count": null,
      "outputs": [
        {
          "output_type": "execute_result",
          "data": {
            "text/plain": [
              "machineID  anomaly\n",
              "1          0          7589\n",
              "           1            38\n",
              "2          0          7602\n",
              "           1            25\n",
              "3          0          7592\n",
              "                      ... \n",
              "98         1            49\n",
              "99         0          7566\n",
              "           1            61\n",
              "100        0          7599\n",
              "           1            28\n",
              "Name: model, Length: 200, dtype: int64"
            ]
          },
          "metadata": {},
          "execution_count": 6
        }
      ]
    },
    {
      "cell_type": "code",
      "source": [
        "# fail rate for each machine\n",
        "machine_r = train.groupby('machineID').anomaly.agg([sum,len])\n",
        "machine_r['sum']/ machine_r['len']"
      ],
      "metadata": {
        "colab": {
          "base_uri": "https://localhost:8080/"
        },
        "id": "3mTATwoqnqtQ",
        "outputId": "13315d21-c3af-4f05-8be7-07d71ec37df5"
      },
      "execution_count": null,
      "outputs": [
        {
          "output_type": "execute_result",
          "data": {
            "text/plain": [
              "machineID\n",
              "1      0.004982\n",
              "2      0.003278\n",
              "3      0.004589\n",
              "4      0.004196\n",
              "5      0.004327\n",
              "         ...   \n",
              "96     0.005376\n",
              "97     0.006031\n",
              "98     0.006425\n",
              "99     0.007998\n",
              "100    0.003671\n",
              "Length: 100, dtype: float64"
            ]
          },
          "metadata": {},
          "execution_count": 7
        }
      ]
    },
    {
      "cell_type": "code",
      "source": [
        "# fail rate for each model\n",
        "model_r = train.groupby('model').anomaly.agg([sum,len])\n",
        "(model_r['sum']/ model_r['len']).to_dict()"
      ],
      "metadata": {
        "colab": {
          "base_uri": "https://localhost:8080/"
        },
        "id": "2TPMi3CUog7z",
        "outputId": "8c925baf-9059-4a7b-ffe4-c7f0c7630bc9"
      },
      "execution_count": null,
      "outputs": [
        {
          "output_type": "execute_result",
          "data": {
            "text/plain": [
              "{'model1': 0.005588698046414055,\n",
              " 'model2': 0.0055144648655318955,\n",
              " 'model3': 0.0047687725936054245,\n",
              " 'model4': 0.00463403041825095}"
            ]
          },
          "metadata": {},
          "execution_count": 8
        }
      ]
    },
    {
      "cell_type": "code",
      "source": [
        "# fail rate for each age\n",
        "age_r = train.groupby('age').anomaly.agg([sum,len])\n",
        "(age_r['sum']/ age_r['len']).to_dict()"
      ],
      "metadata": {
        "colab": {
          "base_uri": "https://localhost:8080/"
        },
        "id": "SwJMGWJ4pDoi",
        "outputId": "e16a9d1d-3d87-4c2d-ebe9-d454f753b540"
      },
      "execution_count": null,
      "outputs": [
        {
          "output_type": "execute_result",
          "data": {
            "text/plain": [
              "{0: 0.004457847122066343,\n",
              " 1: 0.005113412875311394,\n",
              " 2: 0.004479699313841178,\n",
              " 3: 0.005244526025960404,\n",
              " 4: 0.005026004108212054,\n",
              " 5: 0.004457847122066343,\n",
              " 6: 0.004883964861675626,\n",
              " 7: 0.004020803286569643,\n",
              " 8: 0.004588960272715353,\n",
              " 9: 0.004693850793234562,\n",
              " 10: 0.004510292382325947,\n",
              " 11: 0.0035400550675232724,\n",
              " 12: 0.003998951094794808,\n",
              " 14: 0.005900091779205454,\n",
              " 15: 0.005506752327258424,\n",
              " 16: 0.00532319391634981,\n",
              " 17: 0.004776264773642511,\n",
              " 18: 0.0052008216424107336,\n",
              " 19: 0.005998426642192212,\n",
              " 20: 0.005001030174755099}"
            ]
          },
          "metadata": {},
          "execution_count": 9
        }
      ]
    },
    {
      "cell_type": "code",
      "source": [
        "len(train['age'].unique())"
      ],
      "metadata": {
        "colab": {
          "base_uri": "https://localhost:8080/"
        },
        "id": "WVkvd51clK1v",
        "outputId": "43e0ac55-7872-4bf6-c424-df535a1626d7"
      },
      "execution_count": null,
      "outputs": [
        {
          "output_type": "execute_result",
          "data": {
            "text/plain": [
              "20"
            ]
          },
          "metadata": {},
          "execution_count": 10
        }
      ]
    },
    {
      "cell_type": "code",
      "source": [
        "# check if features can seperate label\n",
        "train[['volt', 'rotate', 'pressure', 'vibration','anomaly']].groupby('anomaly').agg([np.mean,np.std,min,max])"
      ],
      "metadata": {
        "id": "z3kTmhbC909M",
        "colab": {
          "base_uri": "https://localhost:8080/",
          "height": 239
        },
        "outputId": "a6a36c25-d424-4b13-c46d-e923ce77f1db"
      },
      "execution_count": null,
      "outputs": [
        {
          "output_type": "execute_result",
          "data": {
            "text/plain": [
              "               volt                                         rotate             \\\n",
              "               mean        std         min         max        mean        std   \n",
              "anomaly                                                                         \n",
              "0        170.775712  15.498560   97.333604  250.870453  446.714034  52.590177   \n",
              "1        172.775498  16.535065  115.638391  235.493717  437.480099  57.997455   \n",
              "\n",
              "                                   pressure                                    \\\n",
              "                min         max        mean        std        min         max   \n",
              "anomaly                                                                         \n",
              "0        138.432075  695.020984  100.828475  11.017544  51.237106  185.951998   \n",
              "1        215.132706  646.235522  102.301394  12.470252  59.331808  168.992513   \n",
              "\n",
              "         vibration                                  \n",
              "              mean       std        min        max  \n",
              "anomaly                                             \n",
              "0        40.383509  5.367626  14.877054  76.791072  \n",
              "1        41.156309  6.025603  24.148212  70.296929  "
            ],
            "text/html": [
              "\n",
              "\n",
              "  <div id=\"df-4eda33e0-9e71-4d63-b22c-74b8446fda62\">\n",
              "    <div class=\"colab-df-container\">\n",
              "      <div>\n",
              "<style scoped>\n",
              "    .dataframe tbody tr th:only-of-type {\n",
              "        vertical-align: middle;\n",
              "    }\n",
              "\n",
              "    .dataframe tbody tr th {\n",
              "        vertical-align: top;\n",
              "    }\n",
              "\n",
              "    .dataframe thead tr th {\n",
              "        text-align: left;\n",
              "    }\n",
              "\n",
              "    .dataframe thead tr:last-of-type th {\n",
              "        text-align: right;\n",
              "    }\n",
              "</style>\n",
              "<table border=\"1\" class=\"dataframe\">\n",
              "  <thead>\n",
              "    <tr>\n",
              "      <th></th>\n",
              "      <th colspan=\"4\" halign=\"left\">volt</th>\n",
              "      <th colspan=\"4\" halign=\"left\">rotate</th>\n",
              "      <th colspan=\"4\" halign=\"left\">pressure</th>\n",
              "      <th colspan=\"4\" halign=\"left\">vibration</th>\n",
              "    </tr>\n",
              "    <tr>\n",
              "      <th></th>\n",
              "      <th>mean</th>\n",
              "      <th>std</th>\n",
              "      <th>min</th>\n",
              "      <th>max</th>\n",
              "      <th>mean</th>\n",
              "      <th>std</th>\n",
              "      <th>min</th>\n",
              "      <th>max</th>\n",
              "      <th>mean</th>\n",
              "      <th>std</th>\n",
              "      <th>min</th>\n",
              "      <th>max</th>\n",
              "      <th>mean</th>\n",
              "      <th>std</th>\n",
              "      <th>min</th>\n",
              "      <th>max</th>\n",
              "    </tr>\n",
              "    <tr>\n",
              "      <th>anomaly</th>\n",
              "      <th></th>\n",
              "      <th></th>\n",
              "      <th></th>\n",
              "      <th></th>\n",
              "      <th></th>\n",
              "      <th></th>\n",
              "      <th></th>\n",
              "      <th></th>\n",
              "      <th></th>\n",
              "      <th></th>\n",
              "      <th></th>\n",
              "      <th></th>\n",
              "      <th></th>\n",
              "      <th></th>\n",
              "      <th></th>\n",
              "      <th></th>\n",
              "    </tr>\n",
              "  </thead>\n",
              "  <tbody>\n",
              "    <tr>\n",
              "      <th>0</th>\n",
              "      <td>170.775712</td>\n",
              "      <td>15.498560</td>\n",
              "      <td>97.333604</td>\n",
              "      <td>250.870453</td>\n",
              "      <td>446.714034</td>\n",
              "      <td>52.590177</td>\n",
              "      <td>138.432075</td>\n",
              "      <td>695.020984</td>\n",
              "      <td>100.828475</td>\n",
              "      <td>11.017544</td>\n",
              "      <td>51.237106</td>\n",
              "      <td>185.951998</td>\n",
              "      <td>40.383509</td>\n",
              "      <td>5.367626</td>\n",
              "      <td>14.877054</td>\n",
              "      <td>76.791072</td>\n",
              "    </tr>\n",
              "    <tr>\n",
              "      <th>1</th>\n",
              "      <td>172.775498</td>\n",
              "      <td>16.535065</td>\n",
              "      <td>115.638391</td>\n",
              "      <td>235.493717</td>\n",
              "      <td>437.480099</td>\n",
              "      <td>57.997455</td>\n",
              "      <td>215.132706</td>\n",
              "      <td>646.235522</td>\n",
              "      <td>102.301394</td>\n",
              "      <td>12.470252</td>\n",
              "      <td>59.331808</td>\n",
              "      <td>168.992513</td>\n",
              "      <td>41.156309</td>\n",
              "      <td>6.025603</td>\n",
              "      <td>24.148212</td>\n",
              "      <td>70.296929</td>\n",
              "    </tr>\n",
              "  </tbody>\n",
              "</table>\n",
              "</div>\n",
              "      <button class=\"colab-df-convert\" onclick=\"convertToInteractive('df-4eda33e0-9e71-4d63-b22c-74b8446fda62')\"\n",
              "              title=\"Convert this dataframe to an interactive table.\"\n",
              "              style=\"display:none;\">\n",
              "\n",
              "  <svg xmlns=\"http://www.w3.org/2000/svg\" height=\"24px\"viewBox=\"0 0 24 24\"\n",
              "       width=\"24px\">\n",
              "    <path d=\"M0 0h24v24H0V0z\" fill=\"none\"/>\n",
              "    <path d=\"M18.56 5.44l.94 2.06.94-2.06 2.06-.94-2.06-.94-.94-2.06-.94 2.06-2.06.94zm-11 1L8.5 8.5l.94-2.06 2.06-.94-2.06-.94L8.5 2.5l-.94 2.06-2.06.94zm10 10l.94 2.06.94-2.06 2.06-.94-2.06-.94-.94-2.06-.94 2.06-2.06.94z\"/><path d=\"M17.41 7.96l-1.37-1.37c-.4-.4-.92-.59-1.43-.59-.52 0-1.04.2-1.43.59L10.3 9.45l-7.72 7.72c-.78.78-.78 2.05 0 2.83L4 21.41c.39.39.9.59 1.41.59.51 0 1.02-.2 1.41-.59l7.78-7.78 2.81-2.81c.8-.78.8-2.07 0-2.86zM5.41 20L4 18.59l7.72-7.72 1.47 1.35L5.41 20z\"/>\n",
              "  </svg>\n",
              "      </button>\n",
              "\n",
              "\n",
              "\n",
              "    <div id=\"df-101827d2-472c-475d-9c9b-d88e6eb39b2d\">\n",
              "      <button class=\"colab-df-quickchart\" onclick=\"quickchart('df-101827d2-472c-475d-9c9b-d88e6eb39b2d')\"\n",
              "              title=\"Suggest charts.\"\n",
              "              style=\"display:none;\">\n",
              "\n",
              "<svg xmlns=\"http://www.w3.org/2000/svg\" height=\"24px\"viewBox=\"0 0 24 24\"\n",
              "     width=\"24px\">\n",
              "    <g>\n",
              "        <path d=\"M19 3H5c-1.1 0-2 .9-2 2v14c0 1.1.9 2 2 2h14c1.1 0 2-.9 2-2V5c0-1.1-.9-2-2-2zM9 17H7v-7h2v7zm4 0h-2V7h2v10zm4 0h-2v-4h2v4z\"/>\n",
              "    </g>\n",
              "</svg>\n",
              "      </button>\n",
              "    </div>\n",
              "\n",
              "<style>\n",
              "  .colab-df-quickchart {\n",
              "    background-color: #E8F0FE;\n",
              "    border: none;\n",
              "    border-radius: 50%;\n",
              "    cursor: pointer;\n",
              "    display: none;\n",
              "    fill: #1967D2;\n",
              "    height: 32px;\n",
              "    padding: 0 0 0 0;\n",
              "    width: 32px;\n",
              "  }\n",
              "\n",
              "  .colab-df-quickchart:hover {\n",
              "    background-color: #E2EBFA;\n",
              "    box-shadow: 0px 1px 2px rgba(60, 64, 67, 0.3), 0px 1px 3px 1px rgba(60, 64, 67, 0.15);\n",
              "    fill: #174EA6;\n",
              "  }\n",
              "\n",
              "  [theme=dark] .colab-df-quickchart {\n",
              "    background-color: #3B4455;\n",
              "    fill: #D2E3FC;\n",
              "  }\n",
              "\n",
              "  [theme=dark] .colab-df-quickchart:hover {\n",
              "    background-color: #434B5C;\n",
              "    box-shadow: 0px 1px 3px 1px rgba(0, 0, 0, 0.15);\n",
              "    filter: drop-shadow(0px 1px 2px rgba(0, 0, 0, 0.3));\n",
              "    fill: #FFFFFF;\n",
              "  }\n",
              "</style>\n",
              "\n",
              "    <script>\n",
              "      async function quickchart(key) {\n",
              "        const containerElement = document.querySelector('#' + key);\n",
              "        const charts = await google.colab.kernel.invokeFunction(\n",
              "            'suggestCharts', [key], {});\n",
              "      }\n",
              "    </script>\n",
              "\n",
              "      <script>\n",
              "\n",
              "function displayQuickchartButton(domScope) {\n",
              "  let quickchartButtonEl =\n",
              "    domScope.querySelector('#df-101827d2-472c-475d-9c9b-d88e6eb39b2d button.colab-df-quickchart');\n",
              "  quickchartButtonEl.style.display =\n",
              "    google.colab.kernel.accessAllowed ? 'block' : 'none';\n",
              "}\n",
              "\n",
              "        displayQuickchartButton(document);\n",
              "      </script>\n",
              "      <style>\n",
              "    .colab-df-container {\n",
              "      display:flex;\n",
              "      flex-wrap:wrap;\n",
              "      gap: 12px;\n",
              "    }\n",
              "\n",
              "    .colab-df-convert {\n",
              "      background-color: #E8F0FE;\n",
              "      border: none;\n",
              "      border-radius: 50%;\n",
              "      cursor: pointer;\n",
              "      display: none;\n",
              "      fill: #1967D2;\n",
              "      height: 32px;\n",
              "      padding: 0 0 0 0;\n",
              "      width: 32px;\n",
              "    }\n",
              "\n",
              "    .colab-df-convert:hover {\n",
              "      background-color: #E2EBFA;\n",
              "      box-shadow: 0px 1px 2px rgba(60, 64, 67, 0.3), 0px 1px 3px 1px rgba(60, 64, 67, 0.15);\n",
              "      fill: #174EA6;\n",
              "    }\n",
              "\n",
              "    [theme=dark] .colab-df-convert {\n",
              "      background-color: #3B4455;\n",
              "      fill: #D2E3FC;\n",
              "    }\n",
              "\n",
              "    [theme=dark] .colab-df-convert:hover {\n",
              "      background-color: #434B5C;\n",
              "      box-shadow: 0px 1px 3px 1px rgba(0, 0, 0, 0.15);\n",
              "      filter: drop-shadow(0px 1px 2px rgba(0, 0, 0, 0.3));\n",
              "      fill: #FFFFFF;\n",
              "    }\n",
              "  </style>\n",
              "\n",
              "      <script>\n",
              "        const buttonEl =\n",
              "          document.querySelector('#df-4eda33e0-9e71-4d63-b22c-74b8446fda62 button.colab-df-convert');\n",
              "        buttonEl.style.display =\n",
              "          google.colab.kernel.accessAllowed ? 'block' : 'none';\n",
              "\n",
              "        async function convertToInteractive(key) {\n",
              "          const element = document.querySelector('#df-4eda33e0-9e71-4d63-b22c-74b8446fda62');\n",
              "          const dataTable =\n",
              "            await google.colab.kernel.invokeFunction('convertToInteractive',\n",
              "                                                     [key], {});\n",
              "          if (!dataTable) return;\n",
              "\n",
              "          const docLinkHtml = 'Like what you see? Visit the ' +\n",
              "            '<a target=\"_blank\" href=https://colab.research.google.com/notebooks/data_table.ipynb>data table notebook</a>'\n",
              "            + ' to learn more about interactive tables.';\n",
              "          element.innerHTML = '';\n",
              "          dataTable['output_type'] = 'display_data';\n",
              "          await google.colab.output.renderOutput(dataTable, element);\n",
              "          const docLink = document.createElement('div');\n",
              "          docLink.innerHTML = docLinkHtml;\n",
              "          element.appendChild(docLink);\n",
              "        }\n",
              "      </script>\n",
              "    </div>\n",
              "  </div>\n"
            ]
          },
          "metadata": {},
          "execution_count": 11
        }
      ]
    },
    {
      "cell_type": "code",
      "source": [
        "for field in ['machineID','age','model']:\n",
        "  df_mean = train[['volt', 'rotate', 'pressure', 'vibration',field]].groupby(field).mean()\n",
        "  df_mean = df_mean.add_prefix('mean_')\n",
        "  df_std = train[['volt', 'rotate', 'pressure', 'vibration',field]].groupby(field).mean()\n",
        "  df_std = df_std.add_prefix('std_')\n",
        "  df = df_mean.join(df_std)\n",
        "  rate = train.groupby(field).anomaly.agg([sum,len])\n",
        "  df[f\"{field}_rate\"] = rate['sum']/ rate['len']\n",
        "  df.to_csv(f\"/content/drive/MyDrive/aitomatic/{field}.csv\")"
      ],
      "metadata": {
        "id": "rFkreFXaVbVl"
      },
      "execution_count": null,
      "outputs": []
    },
    {
      "cell_type": "code",
      "source": [
        "train.to_csv(\"/content/drive/MyDrive/aitomatic/train.csv\",index=False)\n",
        "test.to_csv(\"/content/drive/MyDrive/aitomatic/test.csv\",index=False)"
      ],
      "metadata": {
        "id": "eAXF83N2VcsM"
      },
      "execution_count": null,
      "outputs": []
    },
    {
      "cell_type": "code",
      "source": [
        "train.columns"
      ],
      "metadata": {
        "id": "AHfM7KwDzKT-",
        "colab": {
          "base_uri": "https://localhost:8080/"
        },
        "outputId": "bcadff8c-661b-4341-b5da-69b215ffbcf0"
      },
      "execution_count": null,
      "outputs": [
        {
          "output_type": "execute_result",
          "data": {
            "text/plain": [
              "Index(['datetime', 'machineID', 'volt', 'rotate', 'pressure', 'vibration',\n",
              "       'model', 'age', 'anomaly'],\n",
              "      dtype='object')"
            ]
          },
          "metadata": {},
          "execution_count": 14
        }
      ]
    },
    {
      "cell_type": "code",
      "source": [
        "import librosa # try to use speech processing"
      ],
      "metadata": {
        "id": "K9goaybBxpQX"
      },
      "execution_count": null,
      "outputs": []
    },
    {
      "cell_type": "code",
      "source": [
        "train['volt'].shape"
      ],
      "metadata": {
        "colab": {
          "base_uri": "https://localhost:8080/"
        },
        "id": "hfVi_OFCTdqb",
        "outputId": "9e53ddbf-01d2-4983-8abf-47245822392b"
      },
      "execution_count": null,
      "outputs": [
        {
          "output_type": "execute_result",
          "data": {
            "text/plain": [
              "(762700,)"
            ]
          },
          "metadata": {},
          "execution_count": 16
        }
      ]
    },
    {
      "cell_type": "code",
      "source": [
        "\n",
        "for field in ['volt', 'rotate', 'pressure', 'vibration']:\n",
        "  S = librosa.core.stft(y=train[field].values, n_fft=24, win_length=12, hop_length=4)\n",
        "  S = np.abs(S) ** 2\n",
        "  mel_basis = librosa.filters.mel(sr=24, n_fft=24, n_mels=4)\n",
        "  S = np.log10(np.dot(mel_basis, S) + 1e-6)  # log mel spectrogram of utterances\n",
        "  S -= np.mean(S, axis=0)"
      ],
      "metadata": {
        "id": "02QDbXVdTg7w"
      },
      "execution_count": null,
      "outputs": []
    },
    {
      "cell_type": "code",
      "source": [
        "S.shape"
      ],
      "metadata": {
        "colab": {
          "base_uri": "https://localhost:8080/"
        },
        "id": "_uwoOsxLT6_n",
        "outputId": "223f7509-6e7e-4bef-c42c-5acc611716c7"
      },
      "execution_count": null,
      "outputs": [
        {
          "output_type": "execute_result",
          "data": {
            "text/plain": [
              "(4, 190676)"
            ]
          },
          "metadata": {},
          "execution_count": 18
        }
      ]
    },
    {
      "cell_type": "code",
      "source": [
        "190676/6"
      ],
      "metadata": {
        "colab": {
          "base_uri": "https://localhost:8080/"
        },
        "id": "Y1bn3EOdT7tm",
        "outputId": "8ce76373-e1f2-4fd0-f8af-2fc97379592a"
      },
      "execution_count": null,
      "outputs": [
        {
          "output_type": "execute_result",
          "data": {
            "text/plain": [
              "31779.333333333332"
            ]
          },
          "metadata": {},
          "execution_count": 19
        }
      ]
    },
    {
      "cell_type": "code",
      "source": [
        "762700 / 24"
      ],
      "metadata": {
        "colab": {
          "base_uri": "https://localhost:8080/"
        },
        "id": "fLhd8EF_UHuQ",
        "outputId": "74892f43-b60f-4c6b-e100-d1f5b85a58bd"
      },
      "execution_count": null,
      "outputs": [
        {
          "output_type": "execute_result",
          "data": {
            "text/plain": [
              "31779.166666666668"
            ]
          },
          "metadata": {},
          "execution_count": 20
        }
      ]
    },
    {
      "cell_type": "code",
      "source": [],
      "metadata": {
        "id": "U_lrtU5fUh_h"
      },
      "execution_count": null,
      "outputs": []
    }
  ]
}